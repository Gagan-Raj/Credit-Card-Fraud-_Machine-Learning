{
 "cells": [
  {
   "cell_type": "code",
   "execution_count": 2,
   "id": "8e939c5b",
   "metadata": {},
   "outputs": [],
   "source": [
    "import numpy as np\n",
    "import pandas as pd\n",
    "\n",
    "import matplotlib.pyplot as plt\n",
    "import seaborn as sns\n",
    "\n",
    "import warnings\n",
    "warnings.filterwarnings('ignore')"
   ]
  },
  {
   "cell_type": "markdown",
   "id": "5c5b5442",
   "metadata": {},
   "source": [
    "### Data Loading"
   ]
  },
  {
   "cell_type": "code",
   "execution_count": 3,
   "id": "c953d4ec",
   "metadata": {},
   "outputs": [
    {
     "name": "stdout",
     "output_type": "stream",
     "text": [
      "   Unnamed: 0 trans_date_trans_time            cc_num  \\\n",
      "0           0   2019-01-01 00:00:18  2703186189652095   \n",
      "1           1   2019-01-01 00:00:44      630423337322   \n",
      "2           2   2019-01-01 00:00:51    38859492057661   \n",
      "\n",
      "                          merchant       category     amt      first     last  \\\n",
      "0       fraud_Rippin, Kub and Mann       misc_net    4.97   Jennifer    Banks   \n",
      "1  fraud_Heller, Gutmann and Zieme    grocery_pos  107.23  Stephanie     Gill   \n",
      "2             fraud_Lind-Buckridge  entertainment  220.11     Edward  Sanchez   \n",
      "\n",
      "  gender                        street  ...      lat      long  city_pop  \\\n",
      "0      F                561 Perry Cove  ...  36.0788  -81.1781      3495   \n",
      "1      F  43039 Riley Greens Suite 393  ...  48.8878 -118.2105       149   \n",
      "2      M      594 White Dale Suite 530  ...  42.1808 -112.2620      4154   \n",
      "\n",
      "                                 job         dob  \\\n",
      "0          Psychologist, counselling  1988-03-09   \n",
      "1  Special educational needs teacher  1978-06-21   \n",
      "2        Nature conservation officer  1962-01-19   \n",
      "\n",
      "                          trans_num   unix_time  merch_lat  merch_long  \\\n",
      "0  0b242abb623afc578575680df30655b9  1325376018  36.011293  -82.048315   \n",
      "1  1f76529f8574734946361c461b024d99  1325376044  49.159047 -118.186462   \n",
      "2  a1a22d70485983eac12b5b88dad1cf95  1325376051  43.150704 -112.154481   \n",
      "\n",
      "   is_fraud  \n",
      "0         0  \n",
      "1         0  \n",
      "2         0  \n",
      "\n",
      "[3 rows x 23 columns]\n"
     ]
    }
   ],
   "source": [
    "df_train = pd.read_csv('Data/fraudTrain.csv')\n",
    "print(df_train.head(3))"
   ]
  },
  {
   "cell_type": "code",
   "execution_count": 4,
   "id": "634f6b7f",
   "metadata": {},
   "outputs": [
    {
     "data": {
      "text/plain": [
       "Unnamed: 0               0\n",
       "trans_date_trans_time    0\n",
       "cc_num                   0\n",
       "merchant                 0\n",
       "category                 0\n",
       "amt                      0\n",
       "first                    0\n",
       "last                     0\n",
       "gender                   0\n",
       "street                   0\n",
       "city                     0\n",
       "state                    0\n",
       "zip                      0\n",
       "lat                      0\n",
       "long                     0\n",
       "city_pop                 0\n",
       "job                      0\n",
       "dob                      0\n",
       "trans_num                0\n",
       "unix_time                0\n",
       "merch_lat                0\n",
       "merch_long               0\n",
       "is_fraud                 0\n",
       "dtype: int64"
      ]
     },
     "execution_count": 4,
     "metadata": {},
     "output_type": "execute_result"
    }
   ],
   "source": [
    "df_train.isna().sum()"
   ]
  },
  {
   "cell_type": "markdown",
   "id": "845c7120",
   "metadata": {},
   "source": [
    "# Exploratory Data Analysis\n",
    "## 1. Transaction amount vs Fraud\n",
    "\n",
    "With the dataset cleaned, we can now start to examine how various features relate to fraud. First we will see how the distrition of transaction amount differs between fraudulent and normal activities."
   ]
  },
  {
   "cell_type": "code",
   "execution_count": 5,
   "id": "eb6c29d0",
   "metadata": {},
   "outputs": [
    {
     "data": {
      "text/plain": [
       "count    1.296675e+06\n",
       "mean     7.035104e+01\n",
       "std      1.603160e+02\n",
       "min      1.000000e+00\n",
       "25%      9.650000e+00\n",
       "50%      4.752000e+01\n",
       "75%      8.314000e+01\n",
       "max      2.894890e+04\n",
       "Name: amt, dtype: float64"
      ]
     },
     "execution_count": 5,
     "metadata": {},
     "output_type": "execute_result"
    }
   ],
   "source": [
    "df_train['amt'].describe()"
   ]
  },
  {
   "cell_type": "code",
   "execution_count": 6,
   "id": "283c9d78",
   "metadata": {},
   "outputs": [
    {
     "data": {
      "text/plain": [
       "545.9926000000002"
      ]
     },
     "execution_count": 6,
     "metadata": {},
     "output_type": "execute_result"
    }
   ],
   "source": [
    "np.percentile(df_train['amt'],99)"
   ]
  },
  {
   "cell_type": "code",
   "execution_count": 7,
   "id": "c7f4fcb1",
   "metadata": {},
   "outputs": [
    {
     "data": {
      "text/plain": [
       "<matplotlib.legend.Legend at 0x7fb381e71ac0>"
      ]
     },
     "execution_count": 7,
     "metadata": {},
     "output_type": "execute_result"
    },
    {
     "data": {
      "image/png": "[encoded data removed]",
      "text/plain": [
       "<Figure size 640x480 with 1 Axes>"
      ]
     },
     "metadata": {},
     "output_type": "display_data"
    }
   ],
   "source": [
    "#amount vs fraud\n",
    "ax=sns.histplot(x='amt',data=df_train[df_train.amt<=1000],hue='is_fraud',stat='percent',multiple='dodge',common_norm=False,bins=25)\n",
    "ax.set_ylabel('Percentage in Each Type')\n",
    "ax.set_xlabel('Transaction Amount in USD')\n",
    "plt.legend(title='Type', labels=['Fraud', 'Not Fraud'])"
   ]
  },
  {
   "cell_type": "markdown",
   "id": "f2b70514",
   "metadata": {},
   "source": [
    "The result is very interesting! While normal transactions tend to be around 200 or less, we see fraudulent transactions peak around 300 and then at the 800-1000 range. There is a very clear pattern here!"
   ]
  },
  {
   "cell_type": "markdown",
   "id": "b1486377",
   "metadata": {},
   "source": [
    "## 2. Gender vs Fraud\n",
    "Second, we will examine whether one gender is more susceptible to fraud than the other."
   ]
  },
  {
   "cell_type": "code",
   "execution_count": 8,
   "id": "b960eb78",
   "metadata": {},
   "outputs": [
    {
     "data": {
      "text/plain": [
       "<matplotlib.legend.Legend at 0x7fb381e71760>"
      ]
     },
     "execution_count": 8,
     "metadata": {},
     "output_type": "execute_result"
    },
    {
     "data": {
      "image/png": "[encoded data removed]",
      "text/plain": [
       "<Figure size 640x480 with 1 Axes>"
      ]
     },
     "metadata": {},
     "output_type": "display_data"
    }
   ],
   "source": [
    "#Gender vs Fraud\n",
    "ax=sns.histplot(x='gender',data=df_train, hue='is_fraud',stat='percent',multiple='dodge',common_norm=False)\n",
    "ax.set_ylabel('Percentage')\n",
    "ax.set_xlabel('Credit Card Holder Gender')\n",
    "plt.legend(title='Type', labels=['Fraud', 'Not Fraud'])"
   ]
  },
  {
   "cell_type": "markdown",
   "id": "951bbab5",
   "metadata": {},
   "source": [
    "In this case, we do not see a clear difference between both genders. Data seem to suggest that females and males are almost equally susceptible (50%) to transaction fraud. Gender is not very indicative of a fraudulent transaction."
   ]
  },
  {
   "cell_type": "markdown",
   "id": "9cfc98ad",
   "metadata": {},
   "source": [
    "## 4. Age vs Fraud\n",
    "Are older people more prone to credit card fraud? Or is it the other way around? Given the birthday info, we can calculate the age of each card owner (in 2023) and see whether a trend exists. "
   ]
  },
  {
   "cell_type": "code",
   "execution_count": 9,
   "id": "43fb513c",
   "metadata": {},
   "outputs": [
    {
     "data": {
      "text/plain": [
       "<matplotlib.legend.Legend at 0x7fb31f5fe8b0>"
      ]
     },
     "execution_count": 9,
     "metadata": {},
     "output_type": "execute_result"
    },
    {
     "data": {
      "image/png": "[encoded data removed]",
      "text/plain": [
       "<Figure size 640x480 with 1 Axes>"
      ]
     },
     "metadata": {},
     "output_type": "display_data"
    }
   ],
   "source": [
    "#age vs fraud\n",
    "import datetime as dt\n",
    "df_train['age'] = dt.date.today().year-pd.to_datetime(df_train['dob']).dt.year\n",
    "ax = sns.kdeplot(x='age',data=df_train, hue='is_fraud', common_norm=False)\n",
    "ax.set_xlabel('Credit Card Holder Age')\n",
    "ax.set_ylabel('Density')\n",
    "plt.xticks(np.arange(0,110,5))\n",
    "plt.title('Age Distribution in Fraudulent vs Non-Fraudulent Transactions')\n",
    "plt.legend(title='Type', labels=['Fraud', 'Not Fraud'])"
   ]
  },
  {
   "cell_type": "markdown",
   "id": "5d6f509f",
   "metadata": {},
   "source": [
    "The age distribution is visibly different between 2 transaction types. In normal transactions, there are 2 peaks at the age of 37-38 and 49-50, while in fraudulent transactions, the age distribution is a little smoother and the second peak does include a wider age group from 50-65. This does suggest that older people are potentially more prone to fraud."
   ]
  },
  {
   "cell_type": "code",
   "execution_count": 10,
   "id": "dbb57f1f",
   "metadata": {},
   "outputs": [],
   "source": [
    "#splitting trans_date_trans_time into hour, day, month and creating new columns in the data frame\n",
    "\n",
    "df_train['hour'] = pd.to_datetime(df_train['trans_date_trans_time']).dt.hour\n",
    "df_train['day'] = pd.to_datetime(df_train['trans_date_trans_time']).dt.dayofweek\n",
    "df_train['month'] = pd.to_datetime(df_train['trans_date_trans_time']).dt.month"
   ]
  },
  {
   "cell_type": "code",
   "execution_count": 11,
   "id": "94fd036f",
   "metadata": {},
   "outputs": [
    {
     "name": "stdout",
     "output_type": "stream",
     "text": [
      "is_fraud      1.000000\n",
      "amt           0.219404\n",
      "hour          0.013799\n",
      "age           0.012378\n",
      "city_pop      0.002136\n",
      "lat           0.001894\n",
      "merch_lat     0.001741\n",
      "day           0.001739\n",
      "merch_long    0.001721\n",
      "long          0.001721\n",
      "cc_num       -0.000981\n",
      "zip          -0.002162\n",
      "Unnamed: 0   -0.004767\n",
      "unix_time    -0.005078\n",
      "month        -0.012409\n",
      "Name: is_fraud, dtype: float64\n"
     ]
    }
   ],
   "source": [
    "#let us check correlation of features with our target variable, which is is_fraud column\n",
    "\n",
    "# Checking correlation\n",
    "correlation = df_train.corr()\n",
    "\n",
    "print(correlation[\"is_fraud\"].sort_values(ascending=False))"
   ]
  },
  {
   "cell_type": "markdown",
   "id": "90b44001",
   "metadata": {},
   "source": [
    "# Data Modeling and Prediction\n",
    "\n",
    "The plan is to train the models on the training data set which we have analyzed above and then use the testing dataset to evaluate the model performance.\n",
    "\n",
    "As data models need numeric input, we need to convert some of our categorical observations into numeric ones. For transaction locations and merchant locations, we already have the longitudinal and latitudinal data. But for shopping categories, we need convert them into dummy variables using pandas.get_dummies."
   ]
  },
  {
   "cell_type": "code",
   "execution_count": 12,
   "id": "9643815a",
   "metadata": {},
   "outputs": [],
   "source": [
    "#subset the training data to include only the features that we need\n",
    "train = df_train[['category','amt','zip','lat','long','city_pop','merch_lat','merch_long','age','hour',\n",
    "            'day','month','is_fraud']]\n",
    "\n",
    "#convert category to dummy variables\n",
    "train = pd.get_dummies(train, drop_first=True)\n",
    "y_train = train['is_fraud'].values\n",
    "X_train = train.drop(\"is_fraud\", axis='columns').values"
   ]
  },
  {
   "cell_type": "markdown",
   "id": "4d5f6564",
   "metadata": {},
   "source": [
    "## Pre-Process Test Data\n",
    "\n",
    "All the pre_process steps need to be done for test data as well, along with splitting into x and y"
   ]
  },
  {
   "cell_type": "code",
   "execution_count": 14,
   "id": "2b2e0872",
   "metadata": {},
   "outputs": [],
   "source": [
    "#let's do the same to the df_testing dataset\n",
    "df_test = pd.read_csv('Data/fraudTest.csv')\n",
    "df_test['age'] = dt.date.today().year-pd.to_datetime(df_test['dob']).dt.year\n",
    "df_test['hour'] = pd.to_datetime(df_test['trans_date_trans_time']).dt.hour\n",
    "df_test['day'] = pd.to_datetime(df_test['trans_date_trans_time']).dt.dayofweek\n",
    "df_test['month'] = pd.to_datetime(df_test['trans_date_trans_time']).dt.month"
   ]
  },
  {
   "cell_type": "code",
   "execution_count": 16,
   "id": "372fd0e6",
   "metadata": {},
   "outputs": [],
   "source": [
    "test = df_test[['category','amt','zip','lat','long','city_pop','merch_lat','merch_long',\n",
    "             'age','hour','day','month','is_fraud']]\n",
    "#convert category to dummy variables\n",
    "test = pd.get_dummies(test, drop_first=True)\n",
    "y_test = test['is_fraud'].values\n",
    "X_test = test.drop(\"is_fraud\", axis='columns').values"
   ]
  },
  {
   "cell_type": "markdown",
   "id": "3966928c",
   "metadata": {},
   "source": [
    "Now with both datasets cleaned and organized, we can start building models with them. We will first try to use Logistic Regression combined with confusion matrix to evaluate the model.\n",
    "There is an issue of class imbalance where actual fraud cases are way fewer than normal cases and constitute only a very small part of the dataset. To counter this imbalance, it's important to use the SMOTE (Synthetic Minority Oversampling Technique) method to resample the training dataset so that the model can be trained on more balanced data for better results."
   ]
  },
  {
   "cell_type": "markdown",
   "id": "66fb4a55",
   "metadata": {},
   "source": [
    "### Logistic Regression"
   ]
  },
  {
   "cell_type": "code",
   "execution_count": 18,
   "id": "609431d7",
   "metadata": {},
   "outputs": [
    {
     "name": "stdout",
     "output_type": "stream",
     "text": [
      "Classification report:\n",
      "               precision    recall  f1-score   support\n",
      "\n",
      "           0       1.00      0.95      0.97    553574\n",
      "           1       0.05      0.75      0.10      2145\n",
      "\n",
      "    accuracy                           0.95    555719\n",
      "   macro avg       0.53      0.85      0.54    555719\n",
      "weighted avg       1.00      0.95      0.97    555719\n",
      "\n",
      "Confusion matrix:\n",
      " [[524641  28933]\n",
      " [   534   1611]]\n"
     ]
    }
   ],
   "source": [
    "#logistic regression\n",
    "from imblearn.over_sampling import SMOTE\n",
    "from sklearn.linear_model import LogisticRegression\n",
    "from sklearn.model_selection import train_test_split\n",
    "from sklearn.metrics import confusion_matrix, classification_report\n",
    "\n",
    "method = SMOTE()\n",
    "X_resampled, y_resampled = method.fit_resample(X_train, y_train)\n",
    "\n",
    "model = LogisticRegression()\n",
    "model.fit(X_resampled,y_resampled)\n",
    "y_pred = model.predict(X_test)\n",
    "\n",
    "print('Classification report:\\n', classification_report(y_test, y_pred)) \n",
    "print('Confusion matrix:\\n', confusion_matrix(y_test, y_pred))"
   ]
  },
  {
   "cell_type": "markdown",
   "id": "459ae58d",
   "metadata": {},
   "source": [
    "Above, the recall is around 0.75 and the general accuracy of the model is around 0.95, which is lower than the actual share of non-fraud cases in the testing dataset. Both metrics seem to suggest that the model does not add very much to detecting fraud. Moreover, the Precision of the model is only 0.05: too many false positives to be actually useful!"
   ]
  },
  {
   "cell_type": "markdown",
   "id": "b0e7e9a5",
   "metadata": {},
   "source": [
    "### Decision Tree"
   ]
  },
  {
   "cell_type": "code",
   "execution_count": 21,
   "id": "5b5fbee0",
   "metadata": {},
   "outputs": [
    {
     "name": "stdout",
     "output_type": "stream",
     "text": [
      "Classification report:\n",
      "               precision    recall  f1-score   support\n",
      "\n",
      "           0       1.00      1.00      1.00    553574\n",
      "           1       0.66      0.78      0.72      2145\n",
      "\n",
      "    accuracy                           1.00    555719\n",
      "   macro avg       0.83      0.89      0.86    555719\n",
      "weighted avg       1.00      1.00      1.00    555719\n",
      "\n",
      "Confusion matrix:\n",
      " [[552718    856]\n",
      " [   473   1672]]\n"
     ]
    }
   ],
   "source": [
    "from sklearn.tree import DecisionTreeClassifier\n",
    "\n",
    "model2 = DecisionTreeClassifier()\n",
    "model2.fit(X_resampled,y_resampled)\n",
    "y_pred = model2.predict(X_test)\n",
    "\n",
    "print('Classification report:\\n', classification_report(y_test, y_pred)) \n",
    "print('Confusion matrix:\\n', confusion_matrix(y_test, y_pred))"
   ]
  },
  {
   "cell_type": "markdown",
   "id": "0bbd72bf",
   "metadata": {},
   "source": [
    "In Above, we observe Recall of 0.78  and precision of 0.66. And it has accuracy score of 1.00, even though this is best compared to Logistic Regression, let us check other models, before coming to conclusion."
   ]
  },
  {
   "cell_type": "markdown",
   "id": "3a94701f",
   "metadata": {},
   "source": [
    "### Random Forest"
   ]
  },
  {
   "cell_type": "code",
   "execution_count": 25,
   "id": "455edb25",
   "metadata": {},
   "outputs": [],
   "source": [
    "#random forest \n",
    "from sklearn.ensemble import RandomForestClassifier"
   ]
  },
  {
   "cell_type": "code",
   "execution_count": 27,
   "id": "03cbd631",
   "metadata": {},
   "outputs": [],
   "source": [
    "model3 = RandomForestClassifier(random_state=5)"
   ]
  },
  {
   "cell_type": "code",
   "execution_count": 28,
   "id": "37afedcd",
   "metadata": {},
   "outputs": [
    {
     "data": {
      "text/plain": [
       "RandomForestClassifier(random_state=5)"
      ]
     },
     "execution_count": 28,
     "metadata": {},
     "output_type": "execute_result"
    }
   ],
   "source": [
    "model3.fit(X_resampled,y_resampled)"
   ]
  },
  {
   "cell_type": "code",
   "execution_count": 29,
   "id": "188ddf65",
   "metadata": {},
   "outputs": [],
   "source": [
    "y_pred = model3.predict(X_test)"
   ]
  },
  {
   "cell_type": "code",
   "execution_count": 30,
   "id": "fb149a33",
   "metadata": {},
   "outputs": [
    {
     "name": "stdout",
     "output_type": "stream",
     "text": [
      "Classification report:\n",
      "               precision    recall  f1-score   support\n",
      "\n",
      "           0       1.00      1.00      1.00    553574\n",
      "           1       0.88      0.72      0.79      2145\n",
      "\n",
      "    accuracy                           1.00    555719\n",
      "   macro avg       0.94      0.86      0.90    555719\n",
      "weighted avg       1.00      1.00      1.00    555719\n",
      "\n",
      "Confusion matrix:\n",
      " [[553365    209]\n",
      " [   593   1552]]\n"
     ]
    }
   ],
   "source": [
    "print('Classification report:\\n', classification_report(y_test, y_pred)) \n",
    "print('Confusion matrix:\\n', confusion_matrix(y_test, y_pred))"
   ]
  },
  {
   "cell_type": "markdown",
   "id": "f26fca1a",
   "metadata": {},
   "source": [
    "In Above, we observe Recall of 0.72 and precision of 0.88. And it has accuracy score of 1.00, even though this is best compared to Logistic Regression and Decision tree, let us check other models, before coming to conclusion."
   ]
  },
  {
   "cell_type": "code",
   "execution_count": 38,
   "id": "31b00db6",
   "metadata": {},
   "outputs": [
    {
     "name": "stdout",
     "output_type": "stream",
     "text": [
      "(1296675, 24) (1296675,)\n",
      "(555719, 24) (555719,)\n"
     ]
    }
   ],
   "source": [
    "print(X_train.shape, y_train.shape)\n",
    "print(X_test.shape, y_test.shape)"
   ]
  },
  {
   "cell_type": "markdown",
   "id": "383c3f24",
   "metadata": {},
   "source": [
    "## Undersampling - Random Undersampling:\n",
    "\n",
    "- for this, we will use the sample method to randomly choose the total number of data points from majority class as in the minority class."
   ]
  },
  {
   "cell_type": "code",
   "execution_count": 41,
   "id": "d2b76102",
   "metadata": {},
   "outputs": [],
   "source": [
    "from imblearn.under_sampling import RandomUnderSampler\n",
    "from imblearn.over_sampling import RandomOverSampler"
   ]
  },
  {
   "cell_type": "code",
   "execution_count": 43,
   "id": "ef5bf57b",
   "metadata": {},
   "outputs": [],
   "source": [
    "#random under sampling using imblearn\n",
    "rus = RandomUnderSampler()\n",
    "X_rus, y_rus = rus.fit_resample(X_train, y_train)"
   ]
  },
  {
   "cell_type": "markdown",
   "id": "aee84e4b",
   "metadata": {},
   "source": [
    "Now, we will do the train-test split with the argument 'stratify' in the method equal to our target variable, in order to have equal number of samples from each class in our split."
   ]
  },
  {
   "cell_type": "code",
   "execution_count": 56,
   "id": "9812dcf0",
   "metadata": {},
   "outputs": [
    {
     "name": "stdout",
     "output_type": "stream",
     "text": [
      "(4504, 24) (4504,)\n"
     ]
    }
   ],
   "source": [
    "X_train, X_test, y_train, y_test = train_test_split(X_rus, y_rus, test_size=0.3, random_state=42, stratify=y_rus)"
   ]
  },
  {
   "cell_type": "markdown",
   "id": "cfa7cc8b",
   "metadata": {},
   "source": [
    "Let us Present the data in a better dataframe for good understanding"
   ]
  },
  {
   "cell_type": "code",
   "execution_count": 46,
   "id": "580b6c0c",
   "metadata": {},
   "outputs": [],
   "source": [
    "from sklearn.model_selection import cross_val_score\n",
    "from sklearn import metrics\n",
    "from sklearn.metrics import confusion_matrix, classification_report\n",
    "from sklearn.metrics import precision_score, accuracy_score, f1_score, r2_score\n",
    "from sklearn.metrics import precision_recall_curve, roc_curve"
   ]
  },
  {
   "cell_type": "code",
   "execution_count": 55,
   "id": "a18c1006",
   "metadata": {},
   "outputs": [
    {
     "data": {
      "text/html": [
       "<div>\n",
       "<style scoped>\n",
       "    .dataframe tbody tr th:only-of-type {\n",
       "        vertical-align: middle;\n",
       "    }\n",
       "\n",
       "    .dataframe tbody tr th {\n",
       "        vertical-align: top;\n",
       "    }\n",
       "\n",
       "    .dataframe thead th {\n",
       "        text-align: right;\n",
       "    }\n",
       "</style>\n",
       "<table border=\"1\" class=\"dataframe\">\n",
       "  <thead>\n",
       "    <tr style=\"text-align: right;\">\n",
       "      <th></th>\n",
       "      <th>Model Name</th>\n",
       "      <th>Training Score</th>\n",
       "      <th>Testing Score</th>\n",
       "      <th>Accuracy</th>\n",
       "      <th>F1 Score</th>\n",
       "      <th>Precision</th>\n",
       "      <th>Recall</th>\n",
       "    </tr>\n",
       "  </thead>\n",
       "  <tbody>\n",
       "    <tr>\n",
       "      <th>0</th>\n",
       "      <td>Logistic Regression - Random Under Sampling</td>\n",
       "      <td>0.854111</td>\n",
       "      <td>0.857904</td>\n",
       "      <td>0.857904</td>\n",
       "      <td>0.856634</td>\n",
       "      <td>0.940919</td>\n",
       "      <td>0.763766</td>\n",
       "    </tr>\n",
       "  </tbody>\n",
       "</table>\n",
       "</div>"
      ],
      "text/plain": [
       "                                    Model Name  Training Score  Testing Score  \\\n",
       "0  Logistic Regression - Random Under Sampling        0.854111       0.857904   \n",
       "\n",
       "   Accuracy  F1 Score  Precision    Recall  \n",
       "0  0.857904  0.856634   0.940919  0.763766  "
      ]
     },
     "execution_count": 55,
     "metadata": {},
     "output_type": "execute_result"
    }
   ],
   "source": [
    "#evaluating the model\n",
    "model_name = 'Logistic Regression - Random Under Sampling'\n",
    "train_score = model1_us.score(X_train,y_train)\n",
    "test_score = model1_us.score(X_test,y_test)\n",
    "\n",
    "acc_score = accuracy_score(y_test,y_pred)\n",
    "f_score = f1_score(y_test, y_pred, average='weighted')\n",
    "precision = precision_score(y_test, y_pred)\n",
    "recall = metrics.recall_score(y_test,y_pred)\n",
    "\n",
    "#adding claculations to dataframe\n",
    "model_eval_data = [model_name, train_score, test_score, acc_score, f_score, precision, recall]\n",
    "model_eval_dict = {evaluate_df.columns[i]:model_eval_data[i] for i in range(len(model_eval_data))}\n",
    "evaluate_df = pd.DataFrame(model_eval_data, columns=['Model Name', 'Training Score', 'Testing Score', 'Accuracy',\n",
    "                                          'F1 Score', 'Precision', 'Recall'])\n",
    "evaluate_df"
   ]
  },
  {
   "cell_type": "markdown",
   "id": "ce45358b",
   "metadata": {},
   "source": [
    "It can be noted from the above dataframe that although the accuracy is less, the precision, F1 score and recall have improved which are much more important metrics to evaluate a classification model."
   ]
  },
  {
   "cell_type": "markdown",
   "id": "c4bc846d",
   "metadata": {},
   "source": [
    "### Oversampling - Random Over Sampling:"
   ]
  },
  {
   "cell_type": "code",
   "execution_count": 57,
   "id": "d200f775",
   "metadata": {},
   "outputs": [],
   "source": [
    "#oversampling with imblearn\n",
    "ros = RandomOverSampler()\n",
    "X_ros, y_ros = ros.fit_resample(X_train,y_train)\n",
    "\n",
    "X_train, X_test, y_train, y_test = train_test_split(X_ros,y_ros, test_size=0.3, stratify=y_ros, random_state=42)\n"
   ]
  },
  {
   "cell_type": "code",
   "execution_count": 58,
   "id": "86f03ed5",
   "metadata": {},
   "outputs": [],
   "source": [
    "#implementing logistic regression\n",
    "lr = LogisticRegression(random_state=42)\n",
    "model2_os = lr.fit(X_train, y_train)\n",
    "\n",
    "y_pred = model2_os.predict(X_test)\n"
   ]
  },
  {
   "cell_type": "code",
   "execution_count": 60,
   "id": "d14affd4",
   "metadata": {},
   "outputs": [
    {
     "name": "stdout",
     "output_type": "stream",
     "text": [
      "              precision    recall  f1-score   support\n",
      "\n",
      "           0       0.80      0.96      0.87      1577\n",
      "           1       0.95      0.75      0.84      1576\n",
      "\n",
      "    accuracy                           0.86      3153\n",
      "   macro avg       0.87      0.86      0.86      3153\n",
      "weighted avg       0.87      0.86      0.86      3153\n",
      "\n"
     ]
    }
   ],
   "source": [
    "print(classification_report(y_test, y_pred))"
   ]
  },
  {
   "cell_type": "code",
   "execution_count": 61,
   "id": "0be084a1",
   "metadata": {},
   "outputs": [
    {
     "data": {
      "text/html": [
       "<div>\n",
       "<style scoped>\n",
       "    .dataframe tbody tr th:only-of-type {\n",
       "        vertical-align: middle;\n",
       "    }\n",
       "\n",
       "    .dataframe tbody tr th {\n",
       "        vertical-align: top;\n",
       "    }\n",
       "\n",
       "    .dataframe thead th {\n",
       "        text-align: right;\n",
       "    }\n",
       "</style>\n",
       "<table border=\"1\" class=\"dataframe\">\n",
       "  <thead>\n",
       "    <tr style=\"text-align: right;\">\n",
       "      <th></th>\n",
       "      <th>Model Name</th>\n",
       "      <th>Training Score</th>\n",
       "      <th>Testing Score</th>\n",
       "      <th>Accuracy</th>\n",
       "      <th>F1 Score</th>\n",
       "      <th>Precision</th>\n",
       "      <th>Recall</th>\n",
       "    </tr>\n",
       "  </thead>\n",
       "  <tbody>\n",
       "    <tr>\n",
       "      <th>0</th>\n",
       "      <td>Logistic Regression - Random Under Sampling</td>\n",
       "      <td>0.854111</td>\n",
       "      <td>0.857904</td>\n",
       "      <td>0.857904</td>\n",
       "      <td>0.856634</td>\n",
       "      <td>0.940919</td>\n",
       "      <td>0.763766</td>\n",
       "    </tr>\n",
       "    <tr>\n",
       "      <th>1</th>\n",
       "      <td>[Logistic Regression - Random Over Sampling, 0...</td>\n",
       "      <td>NaN</td>\n",
       "      <td>NaN</td>\n",
       "      <td>NaN</td>\n",
       "      <td>NaN</td>\n",
       "      <td>NaN</td>\n",
       "      <td>NaN</td>\n",
       "    </tr>\n",
       "    <tr>\n",
       "      <th>2</th>\n",
       "      <td>Logistic Regression - Random Over Sampling</td>\n",
       "      <td>0.850850</td>\n",
       "      <td>0.856327</td>\n",
       "      <td>0.856644</td>\n",
       "      <td>0.855129</td>\n",
       "      <td>0.948166</td>\n",
       "      <td>0.754442</td>\n",
       "    </tr>\n",
       "  </tbody>\n",
       "</table>\n",
       "</div>"
      ],
      "text/plain": [
       "                                          Model Name  Training Score  \\\n",
       "0        Logistic Regression - Random Under Sampling        0.854111   \n",
       "1  [Logistic Regression - Random Over Sampling, 0...             NaN   \n",
       "2         Logistic Regression - Random Over Sampling        0.850850   \n",
       "\n",
       "   Testing Score  Accuracy  F1 Score  Precision    Recall  \n",
       "0       0.857904  0.857904  0.856634   0.940919  0.763766  \n",
       "1            NaN       NaN       NaN        NaN       NaN  \n",
       "2       0.856327  0.856644  0.855129   0.948166  0.754442  "
      ]
     },
     "execution_count": 61,
     "metadata": {},
     "output_type": "execute_result"
    }
   ],
   "source": [
    "#evaluating the model\n",
    "model_name = 'Logistic Regression - Random Over Sampling'\n",
    "train_score = model.score(X_train,y_train)\n",
    "test_score = model.score(X_test,y_test)\n",
    "\n",
    "acc_score = accuracy_score(y_test,y_pred)\n",
    "f_score = f1_score(y_test, y_pred, average='weighted')\n",
    "precision = precision_score(y_test, y_pred)\n",
    "recall = metrics.recall_score(y_test,y_pred)\n",
    "#adding claculations to dataframe\n",
    "model_eval_data = [model_name, train_score, test_score, acc_score, f_score, precision, recall]\n",
    "model_eval_dict = {evaluate_df.columns[i]:model_eval_data[i] for i in range(len(model_eval_data))}\n",
    "evaluate_df = evaluate_df.append(model_eval_dict, ignore_index=True)\n",
    "\n",
    "evaluate_df\n"
   ]
  },
  {
   "cell_type": "markdown",
   "id": "03cc9960",
   "metadata": {},
   "source": [
    "### Random Over Sampling - Decision Tree"
   ]
  },
  {
   "cell_type": "code",
   "execution_count": 63,
   "id": "2281c612",
   "metadata": {},
   "outputs": [
    {
     "name": "stdout",
     "output_type": "stream",
     "text": [
      "              precision    recall  f1-score   support\n",
      "\n",
      "           0       0.97      0.96      0.96      2232\n",
      "           1       0.96      0.97      0.97      2272\n",
      "\n",
      "    accuracy                           0.96      4504\n",
      "   macro avg       0.96      0.96      0.96      4504\n",
      "weighted avg       0.96      0.96      0.96      4504\n",
      "\n"
     ]
    }
   ],
   "source": [
    "X_train, X_test, y_train, y_test = train_test_split(X_rus,y_rus, test_size=0.3, random_state=42)\n",
    "\n",
    "dtree = DecisionTreeClassifier(max_depth=10)\n",
    "\n",
    "model = dtree.fit(X_train,y_train)\n",
    "\n",
    "y_pred = model.predict(X_test)\n",
    "\n",
    "print(classification_report(y_test, y_pred))"
   ]
  },
  {
   "cell_type": "code",
   "execution_count": 64,
   "id": "77cdf563",
   "metadata": {},
   "outputs": [
    {
     "data": {
      "text/html": [
       "<div>\n",
       "<style scoped>\n",
       "    .dataframe tbody tr th:only-of-type {\n",
       "        vertical-align: middle;\n",
       "    }\n",
       "\n",
       "    .dataframe tbody tr th {\n",
       "        vertical-align: top;\n",
       "    }\n",
       "\n",
       "    .dataframe thead th {\n",
       "        text-align: right;\n",
       "    }\n",
       "</style>\n",
       "<table border=\"1\" class=\"dataframe\">\n",
       "  <thead>\n",
       "    <tr style=\"text-align: right;\">\n",
       "      <th></th>\n",
       "      <th>Model Name</th>\n",
       "      <th>Training Score</th>\n",
       "      <th>Testing Score</th>\n",
       "      <th>Accuracy</th>\n",
       "      <th>F1 Score</th>\n",
       "      <th>Precision</th>\n",
       "      <th>Recall</th>\n",
       "    </tr>\n",
       "  </thead>\n",
       "  <tbody>\n",
       "    <tr>\n",
       "      <th>0</th>\n",
       "      <td>Logistic Regression - Random Under Sampling</td>\n",
       "      <td>0.854111</td>\n",
       "      <td>0.857904</td>\n",
       "      <td>0.857904</td>\n",
       "      <td>0.856634</td>\n",
       "      <td>0.940919</td>\n",
       "      <td>0.763766</td>\n",
       "    </tr>\n",
       "    <tr>\n",
       "      <th>1</th>\n",
       "      <td>[Logistic Regression - Random Over Sampling, 0...</td>\n",
       "      <td>NaN</td>\n",
       "      <td>NaN</td>\n",
       "      <td>NaN</td>\n",
       "      <td>NaN</td>\n",
       "      <td>NaN</td>\n",
       "      <td>NaN</td>\n",
       "    </tr>\n",
       "    <tr>\n",
       "      <th>2</th>\n",
       "      <td>Logistic Regression - Random Over Sampling</td>\n",
       "      <td>0.850850</td>\n",
       "      <td>0.856327</td>\n",
       "      <td>0.856644</td>\n",
       "      <td>0.855129</td>\n",
       "      <td>0.948166</td>\n",
       "      <td>0.754442</td>\n",
       "    </tr>\n",
       "    <tr>\n",
       "      <th>3</th>\n",
       "      <td>Decision Tree - Random Under Sampling</td>\n",
       "      <td>0.982394</td>\n",
       "      <td>0.964698</td>\n",
       "      <td>0.964698</td>\n",
       "      <td>0.964694</td>\n",
       "      <td>0.958351</td>\n",
       "      <td>0.972271</td>\n",
       "    </tr>\n",
       "  </tbody>\n",
       "</table>\n",
       "</div>"
      ],
      "text/plain": [
       "                                          Model Name  Training Score  \\\n",
       "0        Logistic Regression - Random Under Sampling        0.854111   \n",
       "1  [Logistic Regression - Random Over Sampling, 0...             NaN   \n",
       "2         Logistic Regression - Random Over Sampling        0.850850   \n",
       "3              Decision Tree - Random Under Sampling        0.982394   \n",
       "\n",
       "   Testing Score  Accuracy  F1 Score  Precision    Recall  \n",
       "0       0.857904  0.857904  0.856634   0.940919  0.763766  \n",
       "1            NaN       NaN       NaN        NaN       NaN  \n",
       "2       0.856327  0.856644  0.855129   0.948166  0.754442  \n",
       "3       0.964698  0.964698  0.964694   0.958351  0.972271  "
      ]
     },
     "execution_count": 64,
     "metadata": {},
     "output_type": "execute_result"
    }
   ],
   "source": [
    "#evaluating the model\n",
    "model_name = 'Decision Tree - Random Under Sampling'\n",
    "train_score = model.score(X_train,y_train)\n",
    "test_score = model.score(X_test,y_test)\n",
    "\n",
    "acc_score = accuracy_score(y_test,y_pred)\n",
    "f_score = f1_score(y_test, y_pred, average='weighted')\n",
    "precision = precision_score(y_test, y_pred)\n",
    "recall = metrics.recall_score(y_test,y_pred)\n",
    "#adding claculations to dataframe\n",
    "model_eval_data = [model_name, train_score, test_score, acc_score, f_score, precision, recall]\n",
    "model_eval_dict = {evaluate_df.columns[i]:model_eval_data[i] for i in range(len(model_eval_data))}\n",
    "evaluate_df = evaluate_df.append(model_eval_dict, ignore_index=True)\n",
    "\n",
    "evaluate_df"
   ]
  },
  {
   "cell_type": "markdown",
   "id": "7e1a3477",
   "metadata": {},
   "source": [
    "### Random Over Sampling - Decision Tree"
   ]
  },
  {
   "cell_type": "code",
   "execution_count": 75,
   "id": "817b761b",
   "metadata": {},
   "outputs": [
    {
     "name": "stdout",
     "output_type": "stream",
     "text": [
      "              precision    recall  f1-score   support\n",
      "\n",
      "           0       0.96      0.96      0.96      1579\n",
      "           1       0.96      0.96      0.96      1574\n",
      "\n",
      "    accuracy                           0.96      3153\n",
      "   macro avg       0.96      0.96      0.96      3153\n",
      "weighted avg       0.96      0.96      0.96      3153\n",
      "\n"
     ]
    }
   ],
   "source": [
    "X_train, X_test, y_train, y_test = train_test_split(X_ros,y_ros, test_size=0.3, random_state=42)\n",
    "\n",
    "dtree = DecisionTreeClassifier(max_depth=10)\n",
    "\n",
    "model = dtree.fit(X_train,y_train)\n",
    "\n",
    "y_pred = model.predict(X_test)\n",
    "\n",
    "print(classification_report(y_test, y_pred))\n"
   ]
  },
  {
   "cell_type": "code",
   "execution_count": 76,
   "id": "091ac119",
   "metadata": {},
   "outputs": [
    {
     "data": {
      "text/html": [
       "<div>\n",
       "<style scoped>\n",
       "    .dataframe tbody tr th:only-of-type {\n",
       "        vertical-align: middle;\n",
       "    }\n",
       "\n",
       "    .dataframe tbody tr th {\n",
       "        vertical-align: top;\n",
       "    }\n",
       "\n",
       "    .dataframe thead th {\n",
       "        text-align: right;\n",
       "    }\n",
       "</style>\n",
       "<table border=\"1\" class=\"dataframe\">\n",
       "  <thead>\n",
       "    <tr style=\"text-align: right;\">\n",
       "      <th></th>\n",
       "      <th>Model Name</th>\n",
       "      <th>Training Score</th>\n",
       "      <th>Testing Score</th>\n",
       "      <th>Accuracy</th>\n",
       "      <th>F1 Score</th>\n",
       "      <th>Precision</th>\n",
       "      <th>Recall</th>\n",
       "    </tr>\n",
       "  </thead>\n",
       "  <tbody>\n",
       "    <tr>\n",
       "      <th>0</th>\n",
       "      <td>Logistic Regression - Random Under Sampling</td>\n",
       "      <td>0.854111</td>\n",
       "      <td>0.857904</td>\n",
       "      <td>0.857904</td>\n",
       "      <td>0.856634</td>\n",
       "      <td>0.940919</td>\n",
       "      <td>0.763766</td>\n",
       "    </tr>\n",
       "    <tr>\n",
       "      <th>1</th>\n",
       "      <td>Logistic Regression - Random Over Sampling</td>\n",
       "      <td>0.850850</td>\n",
       "      <td>0.856327</td>\n",
       "      <td>0.856644</td>\n",
       "      <td>0.855129</td>\n",
       "      <td>0.948166</td>\n",
       "      <td>0.754442</td>\n",
       "    </tr>\n",
       "    <tr>\n",
       "      <th>2</th>\n",
       "      <td>Decision Tree - Random Under Sampling</td>\n",
       "      <td>0.982394</td>\n",
       "      <td>0.964698</td>\n",
       "      <td>0.964698</td>\n",
       "      <td>0.964694</td>\n",
       "      <td>0.958351</td>\n",
       "      <td>0.972271</td>\n",
       "    </tr>\n",
       "    <tr>\n",
       "      <th>3</th>\n",
       "      <td>Decision Tree - Random Over Sampling</td>\n",
       "      <td>1.000000</td>\n",
       "      <td>0.973579</td>\n",
       "      <td>0.973579</td>\n",
       "      <td>0.973580</td>\n",
       "      <td>0.977384</td>\n",
       "      <td>0.970070</td>\n",
       "    </tr>\n",
       "    <tr>\n",
       "      <th>4</th>\n",
       "      <td>Random Forest - Random Under Sampling</td>\n",
       "      <td>1.000000</td>\n",
       "      <td>0.973579</td>\n",
       "      <td>0.973579</td>\n",
       "      <td>0.973580</td>\n",
       "      <td>0.977384</td>\n",
       "      <td>0.970070</td>\n",
       "    </tr>\n",
       "    <tr>\n",
       "      <th>5</th>\n",
       "      <td>Random Forest - Random Over Sampling</td>\n",
       "      <td>1.000000</td>\n",
       "      <td>0.965747</td>\n",
       "      <td>0.965747</td>\n",
       "      <td>0.965743</td>\n",
       "      <td>0.974741</td>\n",
       "      <td>0.956163</td>\n",
       "    </tr>\n",
       "    <tr>\n",
       "      <th>6</th>\n",
       "      <td>Decision Tree - Random Over Sampling</td>\n",
       "      <td>0.985452</td>\n",
       "      <td>0.960038</td>\n",
       "      <td>0.960038</td>\n",
       "      <td>0.960037</td>\n",
       "      <td>0.962916</td>\n",
       "      <td>0.956798</td>\n",
       "    </tr>\n",
       "  </tbody>\n",
       "</table>\n",
       "</div>"
      ],
      "text/plain": [
       "                                    Model Name  Training Score  Testing Score  \\\n",
       "0  Logistic Regression - Random Under Sampling        0.854111       0.857904   \n",
       "1   Logistic Regression - Random Over Sampling        0.850850       0.856327   \n",
       "2        Decision Tree - Random Under Sampling        0.982394       0.964698   \n",
       "3         Decision Tree - Random Over Sampling        1.000000       0.973579   \n",
       "4        Random Forest - Random Under Sampling        1.000000       0.973579   \n",
       "5         Random Forest - Random Over Sampling        1.000000       0.965747   \n",
       "6         Decision Tree - Random Over Sampling        0.985452       0.960038   \n",
       "\n",
       "   Accuracy  F1 Score  Precision    Recall  \n",
       "0  0.857904  0.856634   0.940919  0.763766  \n",
       "1  0.856644  0.855129   0.948166  0.754442  \n",
       "2  0.964698  0.964694   0.958351  0.972271  \n",
       "3  0.973579  0.973580   0.977384  0.970070  \n",
       "4  0.973579  0.973580   0.977384  0.970070  \n",
       "5  0.965747  0.965743   0.974741  0.956163  \n",
       "6  0.960038  0.960037   0.962916  0.956798  "
      ]
     },
     "execution_count": 76,
     "metadata": {},
     "output_type": "execute_result"
    }
   ],
   "source": [
    "#evaluating the model\n",
    "model_name = 'Decision Tree - Random Over Sampling'\n",
    "train_score = model.score(X_train,y_train)\n",
    "test_score = model.score(X_test,y_test)\n",
    "\n",
    "acc_score = accuracy_score(y_test,y_pred)\n",
    "f_score = f1_score(y_test, y_pred, average='weighted')\n",
    "precision = precision_score(y_test, y_pred)\n",
    "recall = metrics.recall_score(y_test,y_pred)\n",
    "#adding claculations to dataframe\n",
    "model_eval_data = [model_name, train_score, test_score, acc_score, f_score, precision, recall]\n",
    "model_eval_dict = {evaluate_df.columns[i]:model_eval_data[i] for i in range(len(model_eval_data))}\n",
    "evaluate_df = evaluate_df.append(model_eval_dict, ignore_index=True)\n",
    "\n",
    "evaluate_df"
   ]
  },
  {
   "cell_type": "markdown",
   "id": "72273e15",
   "metadata": {},
   "source": [
    "### Random Under Sampling - Random Forest"
   ]
  },
  {
   "cell_type": "code",
   "execution_count": 77,
   "id": "8c7851f1",
   "metadata": {},
   "outputs": [
    {
     "name": "stdout",
     "output_type": "stream",
     "text": [
      "              precision    recall  f1-score   support\n",
      "\n",
      "           0       0.97      0.98      0.97      2232\n",
      "           1       0.98      0.97      0.97      2272\n",
      "\n",
      "    accuracy                           0.97      4504\n",
      "   macro avg       0.97      0.97      0.97      4504\n",
      "weighted avg       0.97      0.97      0.97      4504\n",
      "\n"
     ]
    }
   ],
   "source": [
    "#train-test split\n",
    "X_train, X_test, y_train, y_test = train_test_split(X_rus,y_rus, test_size=0.3, random_state=42)\n",
    "\n",
    "rf = RandomForestClassifier(n_estimators=100, criterion='gini')\n",
    "\n",
    "model = rf.fit(X_train,y_train)\n",
    "\n",
    "y_pred = model.predict(X_test)\n",
    "\n",
    "print(classification_report(y_test, y_pred))"
   ]
  },
  {
   "cell_type": "code",
   "execution_count": 78,
   "id": "6960ff7b",
   "metadata": {},
   "outputs": [
    {
     "data": {
      "text/html": [
       "<div>\n",
       "<style scoped>\n",
       "    .dataframe tbody tr th:only-of-type {\n",
       "        vertical-align: middle;\n",
       "    }\n",
       "\n",
       "    .dataframe tbody tr th {\n",
       "        vertical-align: top;\n",
       "    }\n",
       "\n",
       "    .dataframe thead th {\n",
       "        text-align: right;\n",
       "    }\n",
       "</style>\n",
       "<table border=\"1\" class=\"dataframe\">\n",
       "  <thead>\n",
       "    <tr style=\"text-align: right;\">\n",
       "      <th></th>\n",
       "      <th>Model Name</th>\n",
       "      <th>Training Score</th>\n",
       "      <th>Testing Score</th>\n",
       "      <th>Accuracy</th>\n",
       "      <th>F1 Score</th>\n",
       "      <th>Precision</th>\n",
       "      <th>Recall</th>\n",
       "    </tr>\n",
       "  </thead>\n",
       "  <tbody>\n",
       "    <tr>\n",
       "      <th>0</th>\n",
       "      <td>Logistic Regression - Random Under Sampling</td>\n",
       "      <td>0.854111</td>\n",
       "      <td>0.857904</td>\n",
       "      <td>0.857904</td>\n",
       "      <td>0.856634</td>\n",
       "      <td>0.940919</td>\n",
       "      <td>0.763766</td>\n",
       "    </tr>\n",
       "    <tr>\n",
       "      <th>1</th>\n",
       "      <td>Logistic Regression - Random Over Sampling</td>\n",
       "      <td>0.850850</td>\n",
       "      <td>0.856327</td>\n",
       "      <td>0.856644</td>\n",
       "      <td>0.855129</td>\n",
       "      <td>0.948166</td>\n",
       "      <td>0.754442</td>\n",
       "    </tr>\n",
       "    <tr>\n",
       "      <th>2</th>\n",
       "      <td>Decision Tree - Random Under Sampling</td>\n",
       "      <td>0.982394</td>\n",
       "      <td>0.964698</td>\n",
       "      <td>0.964698</td>\n",
       "      <td>0.964694</td>\n",
       "      <td>0.958351</td>\n",
       "      <td>0.972271</td>\n",
       "    </tr>\n",
       "    <tr>\n",
       "      <th>3</th>\n",
       "      <td>Decision Tree - Random Over Sampling</td>\n",
       "      <td>1.000000</td>\n",
       "      <td>0.973579</td>\n",
       "      <td>0.973579</td>\n",
       "      <td>0.973580</td>\n",
       "      <td>0.977384</td>\n",
       "      <td>0.970070</td>\n",
       "    </tr>\n",
       "    <tr>\n",
       "      <th>4</th>\n",
       "      <td>Random Forest - Random Under Sampling</td>\n",
       "      <td>1.000000</td>\n",
       "      <td>0.973579</td>\n",
       "      <td>0.973579</td>\n",
       "      <td>0.973580</td>\n",
       "      <td>0.977384</td>\n",
       "      <td>0.970070</td>\n",
       "    </tr>\n",
       "    <tr>\n",
       "      <th>5</th>\n",
       "      <td>Random Forest - Random Over Sampling</td>\n",
       "      <td>1.000000</td>\n",
       "      <td>0.965747</td>\n",
       "      <td>0.965747</td>\n",
       "      <td>0.965743</td>\n",
       "      <td>0.974741</td>\n",
       "      <td>0.956163</td>\n",
       "    </tr>\n",
       "    <tr>\n",
       "      <th>6</th>\n",
       "      <td>Decision Tree - Random Over Sampling</td>\n",
       "      <td>0.985452</td>\n",
       "      <td>0.960038</td>\n",
       "      <td>0.960038</td>\n",
       "      <td>0.960037</td>\n",
       "      <td>0.962916</td>\n",
       "      <td>0.956798</td>\n",
       "    </tr>\n",
       "    <tr>\n",
       "      <th>7</th>\n",
       "      <td>Random Forest - Random Under Sampling</td>\n",
       "      <td>1.000000</td>\n",
       "      <td>0.972025</td>\n",
       "      <td>0.972025</td>\n",
       "      <td>0.972025</td>\n",
       "      <td>0.977313</td>\n",
       "      <td>0.966989</td>\n",
       "    </tr>\n",
       "  </tbody>\n",
       "</table>\n",
       "</div>"
      ],
      "text/plain": [
       "                                    Model Name  Training Score  Testing Score  \\\n",
       "0  Logistic Regression - Random Under Sampling        0.854111       0.857904   \n",
       "1   Logistic Regression - Random Over Sampling        0.850850       0.856327   \n",
       "2        Decision Tree - Random Under Sampling        0.982394       0.964698   \n",
       "3         Decision Tree - Random Over Sampling        1.000000       0.973579   \n",
       "4        Random Forest - Random Under Sampling        1.000000       0.973579   \n",
       "5         Random Forest - Random Over Sampling        1.000000       0.965747   \n",
       "6         Decision Tree - Random Over Sampling        0.985452       0.960038   \n",
       "7        Random Forest - Random Under Sampling        1.000000       0.972025   \n",
       "\n",
       "   Accuracy  F1 Score  Precision    Recall  \n",
       "0  0.857904  0.856634   0.940919  0.763766  \n",
       "1  0.856644  0.855129   0.948166  0.754442  \n",
       "2  0.964698  0.964694   0.958351  0.972271  \n",
       "3  0.973579  0.973580   0.977384  0.970070  \n",
       "4  0.973579  0.973580   0.977384  0.970070  \n",
       "5  0.965747  0.965743   0.974741  0.956163  \n",
       "6  0.960038  0.960037   0.962916  0.956798  \n",
       "7  0.972025  0.972025   0.977313  0.966989  "
      ]
     },
     "execution_count": 78,
     "metadata": {},
     "output_type": "execute_result"
    }
   ],
   "source": [
    "#evaluating the model\n",
    "model_name = 'Random Forest - Random Under Sampling'\n",
    "train_score = model.score(X_train,y_train)\n",
    "test_score = model.score(X_test,y_test)\n",
    "\n",
    "acc_score = accuracy_score(y_test,y_pred)\n",
    "f_score = f1_score(y_test, y_pred, average='weighted')\n",
    "precision = precision_score(y_test, y_pred)\n",
    "recall = metrics.recall_score(y_test,y_pred)\n",
    "#adding claculations to dataframe\n",
    "model_eval_data = [model_name, train_score, test_score, acc_score, f_score, precision, recall]\n",
    "model_eval_dict = {evaluate_df.columns[i]:model_eval_data[i] for i in range(len(model_eval_data))}\n",
    "evaluate_df = evaluate_df.append(model_eval_dict, ignore_index=True)\n",
    "\n",
    "evaluate_df"
   ]
  },
  {
   "cell_type": "markdown",
   "id": "8ece9c90",
   "metadata": {},
   "source": [
    "### Random OVer Sampling - Random Forest"
   ]
  },
  {
   "cell_type": "code",
   "execution_count": 79,
   "id": "fb7f2f83",
   "metadata": {},
   "outputs": [
    {
     "name": "stdout",
     "output_type": "stream",
     "text": [
      "              precision    recall  f1-score   support\n",
      "\n",
      "           0       0.96      0.97      0.97      1579\n",
      "           1       0.97      0.96      0.97      1574\n",
      "\n",
      "    accuracy                           0.97      3153\n",
      "   macro avg       0.97      0.97      0.97      3153\n",
      "weighted avg       0.97      0.97      0.97      3153\n",
      "\n"
     ]
    }
   ],
   "source": [
    "#train-test split\n",
    "X_train, X_test, y_train, y_test = train_test_split(X_ros,y_ros, test_size=0.3, random_state=42)\n",
    "\n",
    "rf = RandomForestClassifier(n_estimators=100, criterion='gini')\n",
    "\n",
    "model = rf.fit(X_train,y_train)\n",
    "\n",
    "y_pred = model.predict(X_test)\n",
    "\n",
    "print(classification_report(y_test, y_pred))"
   ]
  },
  {
   "cell_type": "code",
   "execution_count": 80,
   "id": "9e5060f2",
   "metadata": {},
   "outputs": [
    {
     "data": {
      "text/html": [
       "<div>\n",
       "<style scoped>\n",
       "    .dataframe tbody tr th:only-of-type {\n",
       "        vertical-align: middle;\n",
       "    }\n",
       "\n",
       "    .dataframe tbody tr th {\n",
       "        vertical-align: top;\n",
       "    }\n",
       "\n",
       "    .dataframe thead th {\n",
       "        text-align: right;\n",
       "    }\n",
       "</style>\n",
       "<table border=\"1\" class=\"dataframe\">\n",
       "  <thead>\n",
       "    <tr style=\"text-align: right;\">\n",
       "      <th></th>\n",
       "      <th>Model Name</th>\n",
       "      <th>Training Score</th>\n",
       "      <th>Testing Score</th>\n",
       "      <th>Accuracy</th>\n",
       "      <th>F1 Score</th>\n",
       "      <th>Precision</th>\n",
       "      <th>Recall</th>\n",
       "    </tr>\n",
       "  </thead>\n",
       "  <tbody>\n",
       "    <tr>\n",
       "      <th>0</th>\n",
       "      <td>Logistic Regression - Random Under Sampling</td>\n",
       "      <td>0.854111</td>\n",
       "      <td>0.857904</td>\n",
       "      <td>0.857904</td>\n",
       "      <td>0.856634</td>\n",
       "      <td>0.940919</td>\n",
       "      <td>0.763766</td>\n",
       "    </tr>\n",
       "    <tr>\n",
       "      <th>1</th>\n",
       "      <td>Logistic Regression - Random Over Sampling</td>\n",
       "      <td>0.850850</td>\n",
       "      <td>0.856327</td>\n",
       "      <td>0.856644</td>\n",
       "      <td>0.855129</td>\n",
       "      <td>0.948166</td>\n",
       "      <td>0.754442</td>\n",
       "    </tr>\n",
       "    <tr>\n",
       "      <th>2</th>\n",
       "      <td>Decision Tree - Random Under Sampling</td>\n",
       "      <td>0.982394</td>\n",
       "      <td>0.964698</td>\n",
       "      <td>0.964698</td>\n",
       "      <td>0.964694</td>\n",
       "      <td>0.958351</td>\n",
       "      <td>0.972271</td>\n",
       "    </tr>\n",
       "    <tr>\n",
       "      <th>3</th>\n",
       "      <td>Decision Tree - Random Over Sampling</td>\n",
       "      <td>1.000000</td>\n",
       "      <td>0.973579</td>\n",
       "      <td>0.973579</td>\n",
       "      <td>0.973580</td>\n",
       "      <td>0.977384</td>\n",
       "      <td>0.970070</td>\n",
       "    </tr>\n",
       "    <tr>\n",
       "      <th>4</th>\n",
       "      <td>Random Forest - Random Under Sampling</td>\n",
       "      <td>1.000000</td>\n",
       "      <td>0.973579</td>\n",
       "      <td>0.973579</td>\n",
       "      <td>0.973580</td>\n",
       "      <td>0.977384</td>\n",
       "      <td>0.970070</td>\n",
       "    </tr>\n",
       "    <tr>\n",
       "      <th>5</th>\n",
       "      <td>Random Forest - Random Over Sampling</td>\n",
       "      <td>1.000000</td>\n",
       "      <td>0.965747</td>\n",
       "      <td>0.965747</td>\n",
       "      <td>0.965743</td>\n",
       "      <td>0.974741</td>\n",
       "      <td>0.956163</td>\n",
       "    </tr>\n",
       "    <tr>\n",
       "      <th>6</th>\n",
       "      <td>Decision Tree - Random Over Sampling</td>\n",
       "      <td>0.985452</td>\n",
       "      <td>0.960038</td>\n",
       "      <td>0.960038</td>\n",
       "      <td>0.960037</td>\n",
       "      <td>0.962916</td>\n",
       "      <td>0.956798</td>\n",
       "    </tr>\n",
       "    <tr>\n",
       "      <th>7</th>\n",
       "      <td>Random Forest - Random Under Sampling</td>\n",
       "      <td>1.000000</td>\n",
       "      <td>0.972025</td>\n",
       "      <td>0.972025</td>\n",
       "      <td>0.972025</td>\n",
       "      <td>0.977313</td>\n",
       "      <td>0.966989</td>\n",
       "    </tr>\n",
       "    <tr>\n",
       "      <th>8</th>\n",
       "      <td>Random Forest - Random Over Sampling</td>\n",
       "      <td>1.000000</td>\n",
       "      <td>0.965747</td>\n",
       "      <td>0.965747</td>\n",
       "      <td>0.965745</td>\n",
       "      <td>0.971686</td>\n",
       "      <td>0.959339</td>\n",
       "    </tr>\n",
       "  </tbody>\n",
       "</table>\n",
       "</div>"
      ],
      "text/plain": [
       "                                    Model Name  Training Score  Testing Score  \\\n",
       "0  Logistic Regression - Random Under Sampling        0.854111       0.857904   \n",
       "1   Logistic Regression - Random Over Sampling        0.850850       0.856327   \n",
       "2        Decision Tree - Random Under Sampling        0.982394       0.964698   \n",
       "3         Decision Tree - Random Over Sampling        1.000000       0.973579   \n",
       "4        Random Forest - Random Under Sampling        1.000000       0.973579   \n",
       "5         Random Forest - Random Over Sampling        1.000000       0.965747   \n",
       "6         Decision Tree - Random Over Sampling        0.985452       0.960038   \n",
       "7        Random Forest - Random Under Sampling        1.000000       0.972025   \n",
       "8         Random Forest - Random Over Sampling        1.000000       0.965747   \n",
       "\n",
       "   Accuracy  F1 Score  Precision    Recall  \n",
       "0  0.857904  0.856634   0.940919  0.763766  \n",
       "1  0.856644  0.855129   0.948166  0.754442  \n",
       "2  0.964698  0.964694   0.958351  0.972271  \n",
       "3  0.973579  0.973580   0.977384  0.970070  \n",
       "4  0.973579  0.973580   0.977384  0.970070  \n",
       "5  0.965747  0.965743   0.974741  0.956163  \n",
       "6  0.960038  0.960037   0.962916  0.956798  \n",
       "7  0.972025  0.972025   0.977313  0.966989  \n",
       "8  0.965747  0.965745   0.971686  0.959339  "
      ]
     },
     "execution_count": 80,
     "metadata": {},
     "output_type": "execute_result"
    }
   ],
   "source": [
    "#evaluating the model\n",
    "model_name = 'Random Forest - Random Over Sampling'\n",
    "train_score = model.score(X_train,y_train)\n",
    "test_score = model.score(X_test,y_test)\n",
    "\n",
    "acc_score = accuracy_score(y_test,y_pred)\n",
    "f_score = f1_score(y_test, y_pred, average='weighted')\n",
    "precision = precision_score(y_test, y_pred)\n",
    "recall = metrics.recall_score(y_test,y_pred)\n",
    "#adding claculations to dataframe\n",
    "model_eval_data = [model_name, train_score, test_score, acc_score, f_score, precision, recall]\n",
    "model_eval_dict = {evaluate_df.columns[i]:model_eval_data[i] for i in range(len(model_eval_data))}\n",
    "evaluate_df = evaluate_df.append(model_eval_dict, ignore_index=True)\n",
    "\n",
    "evaluate_df"
   ]
  },
  {
   "cell_type": "code",
   "execution_count": 73,
   "id": "2834d238",
   "metadata": {},
   "outputs": [],
   "source": [
    "#dropping some rows, which are of clerical error\n",
    "evaluate_df = evaluate_df.drop(index=[1,4,5], axis=0)"
   ]
  },
  {
   "cell_type": "code",
   "execution_count": 81,
   "id": "746c9bfb",
   "metadata": {},
   "outputs": [],
   "source": [
    "evaluate_df = evaluate_df.drop(index=[3,4,5], axis=0)"
   ]
  },
  {
   "cell_type": "code",
   "execution_count": 82,
   "id": "86785c86",
   "metadata": {},
   "outputs": [
    {
     "data": {
      "text/html": [
       "<div>\n",
       "<style scoped>\n",
       "    .dataframe tbody tr th:only-of-type {\n",
       "        vertical-align: middle;\n",
       "    }\n",
       "\n",
       "    .dataframe tbody tr th {\n",
       "        vertical-align: top;\n",
       "    }\n",
       "\n",
       "    .dataframe thead th {\n",
       "        text-align: right;\n",
       "    }\n",
       "</style>\n",
       "<table border=\"1\" class=\"dataframe\">\n",
       "  <thead>\n",
       "    <tr style=\"text-align: right;\">\n",
       "      <th></th>\n",
       "      <th>Model Name</th>\n",
       "      <th>Training Score</th>\n",
       "      <th>Testing Score</th>\n",
       "      <th>Accuracy</th>\n",
       "      <th>F1 Score</th>\n",
       "      <th>Precision</th>\n",
       "      <th>Recall</th>\n",
       "    </tr>\n",
       "  </thead>\n",
       "  <tbody>\n",
       "    <tr>\n",
       "      <th>0</th>\n",
       "      <td>Logistic Regression - Random Under Sampling</td>\n",
       "      <td>0.854111</td>\n",
       "      <td>0.857904</td>\n",
       "      <td>0.857904</td>\n",
       "      <td>0.856634</td>\n",
       "      <td>0.940919</td>\n",
       "      <td>0.763766</td>\n",
       "    </tr>\n",
       "    <tr>\n",
       "      <th>1</th>\n",
       "      <td>Logistic Regression - Random Over Sampling</td>\n",
       "      <td>0.850850</td>\n",
       "      <td>0.856327</td>\n",
       "      <td>0.856644</td>\n",
       "      <td>0.855129</td>\n",
       "      <td>0.948166</td>\n",
       "      <td>0.754442</td>\n",
       "    </tr>\n",
       "    <tr>\n",
       "      <th>2</th>\n",
       "      <td>Decision Tree - Random Under Sampling</td>\n",
       "      <td>0.982394</td>\n",
       "      <td>0.964698</td>\n",
       "      <td>0.964698</td>\n",
       "      <td>0.964694</td>\n",
       "      <td>0.958351</td>\n",
       "      <td>0.972271</td>\n",
       "    </tr>\n",
       "    <tr>\n",
       "      <th>6</th>\n",
       "      <td>Decision Tree - Random Over Sampling</td>\n",
       "      <td>0.985452</td>\n",
       "      <td>0.960038</td>\n",
       "      <td>0.960038</td>\n",
       "      <td>0.960037</td>\n",
       "      <td>0.962916</td>\n",
       "      <td>0.956798</td>\n",
       "    </tr>\n",
       "    <tr>\n",
       "      <th>7</th>\n",
       "      <td>Random Forest - Random Under Sampling</td>\n",
       "      <td>1.000000</td>\n",
       "      <td>0.972025</td>\n",
       "      <td>0.972025</td>\n",
       "      <td>0.972025</td>\n",
       "      <td>0.977313</td>\n",
       "      <td>0.966989</td>\n",
       "    </tr>\n",
       "    <tr>\n",
       "      <th>8</th>\n",
       "      <td>Random Forest - Random Over Sampling</td>\n",
       "      <td>1.000000</td>\n",
       "      <td>0.965747</td>\n",
       "      <td>0.965747</td>\n",
       "      <td>0.965745</td>\n",
       "      <td>0.971686</td>\n",
       "      <td>0.959339</td>\n",
       "    </tr>\n",
       "  </tbody>\n",
       "</table>\n",
       "</div>"
      ],
      "text/plain": [
       "                                    Model Name  Training Score  Testing Score  \\\n",
       "0  Logistic Regression - Random Under Sampling        0.854111       0.857904   \n",
       "1   Logistic Regression - Random Over Sampling        0.850850       0.856327   \n",
       "2        Decision Tree - Random Under Sampling        0.982394       0.964698   \n",
       "6         Decision Tree - Random Over Sampling        0.985452       0.960038   \n",
       "7        Random Forest - Random Under Sampling        1.000000       0.972025   \n",
       "8         Random Forest - Random Over Sampling        1.000000       0.965747   \n",
       "\n",
       "   Accuracy  F1 Score  Precision    Recall  \n",
       "0  0.857904  0.856634   0.940919  0.763766  \n",
       "1  0.856644  0.855129   0.948166  0.754442  \n",
       "2  0.964698  0.964694   0.958351  0.972271  \n",
       "6  0.960038  0.960037   0.962916  0.956798  \n",
       "7  0.972025  0.972025   0.977313  0.966989  \n",
       "8  0.965747  0.965745   0.971686  0.959339  "
      ]
     },
     "execution_count": 82,
     "metadata": {},
     "output_type": "execute_result"
    }
   ],
   "source": [
    "evaluate_df"
   ]
  },
  {
   "cell_type": "markdown",
   "id": "db202128",
   "metadata": {},
   "source": [
    "- From the above Dataframe, it can be noted that the Random Forest Algorithm is the best among all the others that we have used for model building.\n",
    "- Out of all the sampling methods, the random forests method has yielded best results with the random Under sampling sampling algorithm.\n"
   ]
  },
  {
   "cell_type": "code",
   "execution_count": null,
   "id": "abe31b21",
   "metadata": {},
   "outputs": [],
   "source": []
  }
 ],
 "metadata": {
  "kernelspec": {
   "display_name": "Python 3 (ipykernel)",
   "language": "python",
   "name": "python3"
  },
  "language_info": {
   "codemirror_mode": {
    "name": "ipython",
    "version": 3
   },
   "file_extension": ".py",
   "mimetype": "text/x-python",
   "name": "python",
   "nbconvert_exporter": "python",
   "pygments_lexer": "ipython3",
   "version": "3.9.13"
  }
 },
 "nbformat": 4,
 "nbformat_minor": 5
}
